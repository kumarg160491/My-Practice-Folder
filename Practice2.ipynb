{
 "cells": [
  {
   "cell_type": "code",
   "execution_count": null,
   "metadata": {},
   "outputs": [],
   "source": [
    "from threading import *\n",
    "from time import sleep\n",
    "\n",
    "class mythread():\n",
    "    \n",
    "    def displayThread(self):\n",
    "        i=0\n",
    "        print('Current Thread',current_thread().getName())\n",
    "        sleep(1)\n",
    "        while(i<=10):\n",
    "            print(i)\n",
    "            i+=1\n",
    "            \n",
    "obj=mythread()\n",
    "t=Thread(target=obj.displayThread)\n",
    "t.start()\n",
    "\n",
    "t1=Thread(target=obj.displayThread)\n",
    "t1.start()\n",
    "\n",
    "t2=Thread(target=obj.displayThread)\n",
    "t2.start()\n",
    "\n",
    "t3=Thread(target=obj.displayThread)\n",
    "t3.start()\n",
    "\n",
    "t4=Thread(target=obj.displayThread)\n",
    "t4.start()\n",
    "    \n",
    "    "
   ]
  },
  {
   "cell_type": "code",
   "execution_count": null,
   "metadata": {},
   "outputs": [],
   "source": [
    "from threading import *\n",
    "\n",
    "class Bookmybus:\n",
    "    def __init__(self,availableSeat):\n",
    "        self.availableSeat=availableSeat\n",
    "        self.l=Lock()\n",
    "              \n",
    "        \n",
    "    def buy(self,seatsRequested):\n",
    "        self.l.acquire()\n",
    "        print('Total seat available:'+'\\t'+'\\n',self.availableSeat)\n",
    "        if (self.availableSeat>=seatsRequested):\n",
    "            print('Conferming the seat')\n",
    "            print('Conferming the payment')\n",
    "            print('Printing the ticket')\n",
    "            self.availableSeat-=seatsRequested\n",
    "        else:\n",
    "            print('Sorry seats not available')\n",
    "        self.l.release()\n",
    "\n",
    "obj=Bookmybus(int(input('Enter the seat:')))\n",
    "\n",
    "t1=Thread(target=obj.buy,args=(3,))\n",
    "t1.start()\n",
    "t2=Thread(target=obj.buy,args=(4,))\n",
    "t2.start()\n",
    "t3=Thread(target=obj.buy,args=(1,))\n",
    "t3.start()    "
   ]
  },
  {
   "cell_type": "code",
   "execution_count": null,
   "metadata": {},
   "outputs": [],
   "source": [
    "from threading import *\n",
    "\n",
    "class Bookmybus:\n",
    "    def __init__(self,availableSeat):\n",
    "        self.availableSeat=availableSeat\n",
    "        self.l=Semaphore()\n",
    "              \n",
    "        \n",
    "    def buy(self,seatsRequested):\n",
    "        self.l.acquire()\n",
    "        print('Total seat available:'+'\\t'+'\\n',self.availableSeat)\n",
    "        if (self.availableSeat>=seatsRequested):\n",
    "            print('Conferming the seat')\n",
    "            print('Conferming the payment')\n",
    "            print('Printing the ticket')\n",
    "            self.availableSeat-=seatsRequested\n",
    "        else:\n",
    "            print('Sorry seats not available')\n",
    "        self.l.release()\n",
    "\n",
    "obj=Bookmybus(int(input('Enter the seat:')))\n",
    "\n",
    "t1=Thread(target=obj.buy,args=(3,))\n",
    "t1.start()\n",
    "t2=Thread(target=obj.buy,args=(4,))\n",
    "t2.start()\n",
    "t3=Thread(target=obj.buy,args=(1,))\n",
    "t3.start()    "
   ]
  },
  {
   "cell_type": "code",
   "execution_count": null,
   "metadata": {},
   "outputs": [],
   "source": [
    "my_movies = [['How I Met Your Mother', 'Friends', 'Silicon Valley'],['Family Guy', 'South Park', 'Rick and Morty'],['Breaking Bad', 'Game of Thrones', 'The Wire']]"
   ]
  },
  {
   "cell_type": "code",
   "execution_count": null,
   "metadata": {},
   "outputs": [],
   "source": [
    "for sublist in my_movies:\n",
    "    for movie_name in sublist:\n",
    "        char_num = len(movie_name)\n",
    "        print(\"The title \" + movie_name + \" is \" + str(char_num) + \" characters long.\")"
   ]
  },
  {
   "cell_type": "code",
   "execution_count": null,
   "metadata": {},
   "outputs": [],
   "source": [
    "num=int(input('Enter number between 1 to 30 :'))\n"
   ]
  },
  {
   "cell_type": "code",
   "execution_count": null,
   "metadata": {},
   "outputs": [],
   "source": [
    "counter = 1\n",
    "while (counter < 5):\n",
    "    count = counter\n",
    "    if count < 2:\n",
    "        counter = counter + 1\n",
    "    else:\n",
    "        print('Less than 2')\n",
    "    if count > 4:\n",
    "        counter = counter + 1\n",
    "    else:\n",
    "        print('Greater than 4')\n",
    "    counter = counter + 1 "
   ]
  },
  {
   "cell_type": "code",
   "execution_count": null,
   "metadata": {},
   "outputs": [],
   "source": [
    "n = int(input('Enter number between 1 to 30 :'))\n",
    "while n >= 30:\n",
    "    n = n - 1\n",
    "    if n == 2:\n",
    "        break\n",
    "    print(n)\n",
    "else:\n",
    "    print(\"Loop is finished\")"
   ]
  },
  {
   "cell_type": "code",
   "execution_count": null,
   "metadata": {},
   "outputs": [],
   "source": [
    "count = 0\n",
    "while count < 5:\n",
    "    print (count, \" is  less than 5\")\n",
    "    count = count + 1\n",
    "else:\n",
    "    print (count, \" is not less than 5\")"
   ]
  },
  {
   "cell_type": "code",
   "execution_count": null,
   "metadata": {},
   "outputs": [],
   "source": [
    "#!pip install nltk\n",
    "#!pip install selenium\n",
    "import pandas as pd\n",
    "import numpy as np\n",
    "from selenium import webdriver\n",
    "from bs4  import BeautifulSoup\n",
    "import re\n",
    "import nltk\n",
    "from nltk.corpus import stopwords\n",
    "from nltk.stem import PorterStemmer\n",
    "from urllib.request import urlopen\n",
    "from nltk.stem import WordNetLemmatizer\n",
    "nltk.download('punkt')\n",
    "nltk.download('stopwords')\n",
    "nltk.download('wordnet')"
   ]
  },
  {
   "cell_type": "code",
   "execution_count": null,
   "metadata": {},
   "outputs": [],
   "source": [
    "data=pd.read_excel('/home/kumarg/Desktop/Capston Project WebScraping - Kumar Gaurav/cik_list.xlsx')\n",
    "data.head()"
   ]
  },
  {
   "cell_type": "code",
   "execution_count": null,
   "metadata": {},
   "outputs": [],
   "source": [
    "num=int(input('Enter number between 1 to 30 :'))\n",
    "\n",
    "if(num<=30):\n",
    "    my_files=[]\n",
    "    for link in data.SECFNAME_URL[0:num]:\n",
    "        with urlopen(link) as response:\n",
    "            myfile = response.read()\n",
    "            my_files.append(myfile)\n",
    "else:\n",
    "    print('Pls enter the number 1 to 30 :')\n",
    "    #print(num)\n",
    "    \n",
    "my_files=''.join(map(str,my_files))\n",
    "\n",
    "\n",
    "f=open('my_files.txt','w')\n",
    "f.write(my_files)\n",
    "f.close()"
   ]
  },
  {
   "cell_type": "code",
   "execution_count": null,
   "metadata": {},
   "outputs": [],
   "source": [
    "# pip install spacy\n",
    "# python -m spacy download en_core_web_sm\n",
    "\n",
    "import spacy\n",
    "\n",
    "# Load English tokenizer, tagger, parser, NER and word vectors\n",
    "nlp = spacy.load(\"en_core_web_sm\")\n",
    "\n",
    "# Process whole documents\n",
    "text = (\"When Sebastian Thrun started working on self-driving cars at \"\n",
    "        \"Google in 2007, few people outside of the company took him \"\n",
    "        \"seriously. “I can tell you very senior CEOs of major American \"\n",
    "        \"car companies would shake my hand and turn away because I wasn’t \"\n",
    "        \"worth talking to,” said Thrun, in an interview with Recode earlier \"\n",
    "        \"this week.\")\n",
    "doc = nlp(text)\n",
    "\n",
    "# Analyze syntax\n",
    "print(\"Noun phrases:\", [chunk.text for chunk in doc.noun_chunks])\n",
    "print(\"Verbs:\", [token.lemma_ for token in doc if token.pos_ == \"VERB\"])\n",
    "\n",
    "# Find named entities, phrases and concepts\n",
    "for entity in doc.ents:\n",
    "    print(entity.text, entity.label_)"
   ]
  },
  {
   "cell_type": "code",
   "execution_count": null,
   "metadata": {},
   "outputs": [],
   "source": [
    "import matplotlib.pyplot as plt\n",
    "import numpy as np\n",
    "import ipywidgets as widgets\n",
    "\n",
    "%matplotlib inline"
   ]
  },
  {
   "cell_type": "code",
   "execution_count": null,
   "metadata": {},
   "outputs": [],
   "source": [
    "rolls=np.random.choice([1,2,3,4,5,6],size=300)\n",
    "averages=np.cumsum(rolls)/np.arange(1,301)\n",
    "\n",
    "def plotting_fun(num_rolls):\n",
    "    plt.plot(np.arange(1,300)[:num_rolls],averages[:num_rolls])"
   ]
  },
  {
   "cell_type": "code",
   "execution_count": null,
   "metadata": {},
   "outputs": [],
   "source": [
    "widgets.interact(plotting_fun,num_rolls=(1,300));\n",
    "plt.tight_layout()"
   ]
  },
  {
   "cell_type": "code",
   "execution_count": null,
   "metadata": {
    "deletable": false,
    "editable": false
   },
   "outputs": [],
   "source": [
    "from IPython.core.display import display, HTML\n",
    "display(HTML('<h1>Hello, world!</h1>'))\n",
    "\n",
    "#https://www.sec.gov/Archives/edgar/data/3662/0000950170-98-000413.txt\n"
   ]
  },
  {
   "cell_type": "code",
   "execution_count": 24,
   "metadata": {
    "deletable": false,
    "editable": false
   },
   "outputs": [],
   "source": [
    "#ddsdfsfsdf"
   ]
  },
  {
   "cell_type": "code",
   "execution_count": null,
   "metadata": {},
   "outputs": [],
   "source": []
  },
  {
   "cell_type": "code",
   "execution_count": null,
   "metadata": {},
   "outputs": [],
   "source": []
  },
  {
   "cell_type": "code",
   "execution_count": null,
   "metadata": {},
   "outputs": [],
   "source": []
  },
  {
   "cell_type": "code",
   "execution_count": null,
   "metadata": {},
   "outputs": [],
   "source": []
  },
  {
   "cell_type": "code",
   "execution_count": null,
   "metadata": {},
   "outputs": [],
   "source": []
  },
  {
   "cell_type": "code",
   "execution_count": null,
   "metadata": {},
   "outputs": [],
   "source": []
  },
  {
   "cell_type": "code",
   "execution_count": null,
   "metadata": {},
   "outputs": [],
   "source": []
  },
  {
   "cell_type": "code",
   "execution_count": null,
   "metadata": {},
   "outputs": [],
   "source": []
  },
  {
   "cell_type": "code",
   "execution_count": null,
   "metadata": {},
   "outputs": [],
   "source": []
  }
 ],
 "metadata": {
  "kernelspec": {
   "display_name": "Python 3",
   "language": "python",
   "name": "python3"
  },
  "language_info": {
   "codemirror_mode": {
    "name": "ipython",
    "version": 3
   },
   "file_extension": ".py",
   "mimetype": "text/x-python",
   "name": "python",
   "nbconvert_exporter": "python",
   "pygments_lexer": "ipython3",
   "version": "3.7.3"
  }
 },
 "nbformat": 4,
 "nbformat_minor": 2
}
